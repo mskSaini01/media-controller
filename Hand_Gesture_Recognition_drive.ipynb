{
 "cells": [
  {
   "cell_type": "markdown",
   "metadata": {
    "id": "L22Iuz5SDRvk"
   },
   "source": [
    "### Data Collection"
   ]
  },
  {
   "cell_type": "code",
   "execution_count": 1,
   "metadata": {
    "id": "WqXoFfu5DRvh",
    "scrolled": true
   },
   "outputs": [],
   "source": [
    "# Import Libraries\n",
    "import cv2\n",
    "import numpy as np\n",
    "import os\n",
    "import time\n",
    "from PIL import Image\n",
    "from matplotlib import pyplot as plt\n",
    "%matplotlib inline"
   ]
  },
  {
   "cell_type": "code",
   "execution_count": 2,
   "metadata": {
    "id": "1F4__2RhKcbC",
    "scrolled": true
   },
   "outputs": [],
   "source": [
    "DATASET_PATH = './/data'\n",
    "#DATASET_PATH = '/content/drive/MyDrive/dataset'\n",
    "labels = [\"no-gesture\", \"play-n-Stop\", \"mute\", \"loop\", \"shortcuts\", \"screenSize\", \"subtitles\", \"next\", \"previous\", \"forward\", \"backward\", \"faster\", \"slower\", \"volume-up\", \"volume-down\"]"
   ]
  },
  {
   "cell_type": "code",
   "execution_count": 3,
   "metadata": {
    "scrolled": true
   },
   "outputs": [
    {
     "name": "stdout",
     "output_type": "stream",
     "text": [
      ".//data\n"
     ]
    }
   ],
   "source": [
    "print(DATASET_PATH)"
   ]
  },
  {
   "cell_type": "markdown",
   "metadata": {
    "id": "L22Iuz5SDRvk"
   },
   "source": [
    "### Create the directory structure"
   ]
  },
  {
   "cell_type": "code",
   "execution_count": 4,
   "metadata": {
    "id": "YSbB_JpTDRvl",
    "scrolled": true
   },
   "outputs": [],
   "source": [
    "def setDataDir(DATASET_PATH):\n",
    "    if not os.path.exists(DATASET_PATH):\n",
    "        os.makedirs(DATASET_PATH)\n",
    "\n",
    "    if not os.path.exists(DATASET_PATH +'//train'):\n",
    "        os.makedirs(DATASET_PATH +'//train')\n",
    "\n",
    "    if not os.path.exists(DATASET_PATH +'//test'):\n",
    "        os.makedirs(DATASET_PATH +'//test')\n",
    "    \n",
    "    for label in labels:\n",
    "        if not os.path.exists(DATASET_PATH +'//train//' + label):\n",
    "            os.makedirs(DATASET_PATH +'//train//' + label)\n",
    "    \n",
    "    for label in labels:\n",
    "        if not os.path.exists(DATASET_PATH +'//test//' + label):\n",
    "            os.makedirs(DATASET_PATH +'//test//' + label)"
   ]
  },
  {
   "cell_type": "code",
   "execution_count": 5,
   "metadata": {
    "scrolled": true
   },
   "outputs": [
    {
     "data": {
      "text/plain": [
       "\"\\nsetDataDir('.//data_gray')\\nsetDataDir('.//data_thresh')\\nsetDataDir('.//data_morph')\\n\""
      ]
     },
     "execution_count": 5,
     "metadata": {},
     "output_type": "execute_result"
    }
   ],
   "source": [
    "setDataDir(DATASET_PATH)\n",
    "'''\n",
    "setDataDir('.//data_gray')\n",
    "setDataDir('.//data_thresh')\n",
    "setDataDir('.//data_morph')\n",
    "'''"
   ]
  },
  {
   "cell_type": "code",
   "execution_count": null,
   "metadata": {
    "scrolled": true
   },
   "outputs": [],
   "source": []
  },
  {
   "cell_type": "code",
   "execution_count": 6,
   "metadata": {
    "colab": {
     "base_uri": "https://localhost:8080/"
    },
    "id": "gwyvPdRRDRvn",
    "outputId": "f312e3b8-2981-47b0-da80-4bf0eedf3e05",
    "scrolled": true
   },
   "outputs": [
    {
     "data": {
      "text/plain": [
       "['test', 'train']"
      ]
     },
     "execution_count": 6,
     "metadata": {},
     "output_type": "execute_result"
    }
   ],
   "source": [
    "os.listdir(DATASET_PATH)"
   ]
  },
  {
   "cell_type": "code",
   "execution_count": 7,
   "metadata": {
    "colab": {
     "base_uri": "https://localhost:8080/"
    },
    "id": "voftyieNDRvq",
    "outputId": "a953ccd0-505a-4eb8-80c6-ce9c313b510b",
    "scrolled": true
   },
   "outputs": [
    {
     "data": {
      "text/plain": [
       "['backward',\n",
       " 'faster',\n",
       " 'forward',\n",
       " 'loop',\n",
       " 'mute',\n",
       " 'next',\n",
       " 'no-gesture',\n",
       " 'play-n-Stop',\n",
       " 'previous',\n",
       " 'screenSize',\n",
       " 'shortcuts',\n",
       " 'slower',\n",
       " 'subtitles',\n",
       " 'volume-down',\n",
       " 'volume-up']"
      ]
     },
     "execution_count": 7,
     "metadata": {},
     "output_type": "execute_result"
    }
   ],
   "source": [
    "os.listdir(DATASET_PATH+'//train')"
   ]
  },
  {
   "cell_type": "code",
   "execution_count": 8,
   "metadata": {
    "colab": {
     "base_uri": "https://localhost:8080/"
    },
    "id": "Uyh39ePhDRvs",
    "outputId": "e92a880f-6ccc-4a83-fa85-18f55f6aa994",
    "scrolled": true
   },
   "outputs": [
    {
     "data": {
      "text/plain": [
       "['backward',\n",
       " 'faster',\n",
       " 'forward',\n",
       " 'loop',\n",
       " 'mute',\n",
       " 'next',\n",
       " 'no-gesture',\n",
       " 'play-n-Stop',\n",
       " 'previous',\n",
       " 'screenSize',\n",
       " 'shortcuts',\n",
       " 'slower',\n",
       " 'subtitles',\n",
       " 'volume-down',\n",
       " 'volume-up']"
      ]
     },
     "execution_count": 8,
     "metadata": {},
     "output_type": "execute_result"
    }
   ],
   "source": [
    "os.listdir(DATASET_PATH+'//test')"
   ]
  },
  {
   "cell_type": "markdown",
   "metadata": {
    "id": "HWYxYNHBDRvt"
   },
   "source": [
    "### Enter Mode - Train or Test"
   ]
  },
  {
   "cell_type": "code",
   "execution_count": 9,
   "metadata": {
    "colab": {
     "base_uri": "https://localhost:8080/"
    },
    "id": "rbHlCNz_DRvu",
    "outputId": "1f344915-573d-4194-91dd-56fb1beeca8a",
    "scrolled": true
   },
   "outputs": [
    {
     "name": "stdout",
     "output_type": "stream",
     "text": [
      "Enter mode: (train/test)\n",
      "train\n"
     ]
    }
   ],
   "source": [
    "print('Enter mode: (train/test)')\n",
    "mode = input()"
   ]
  },
  {
   "cell_type": "code",
   "execution_count": 10,
   "metadata": {
    "id": "e2ARa5_WDRvv",
    "scrolled": true
   },
   "outputs": [],
   "source": [
    "if (mode == 'train') or (mode == 'test'):\n",
    "    directory = DATASET_PATH+'//'+mode\n",
    "else:\n",
    "    mode = input()"
   ]
  },
  {
   "cell_type": "markdown",
   "metadata": {
    "id": "nLDtXpKuDRvx"
   },
   "source": [
    "### Capture images for Dataset"
   ]
  },
  {
   "cell_type": "code",
   "execution_count": 11,
   "metadata": {
    "scrolled": true
   },
   "outputs": [
    {
     "name": "stdout",
     "output_type": "stream",
     "text": [
      ".//data//train\n"
     ]
    }
   ],
   "source": [
    "print(directory)"
   ]
  },
  {
   "cell_type": "code",
   "execution_count": 12,
   "metadata": {
    "scrolled": true
   },
   "outputs": [],
   "source": [
    "def captureData(data_path, mode, data_size):\n",
    "    cap = cv2.VideoCapture(0)\n",
    "    \n",
    "    if not cap.isOpened():\n",
    "        print(\"Cannot open camera\")\n",
    "        exit()\n",
    "    \n",
    "    for label in labels:\n",
    "        print('Images for {} :'.format(label))\n",
    "        time.sleep(8)\n",
    "        for img_count in range (data_size):\n",
    "            ret, frame = cap.read()\n",
    "            if not ret:\n",
    "                print(\"Can't receive frame (stream end?). Exiting ...\")\n",
    "                break\n",
    "\n",
    "            frame = cv2.flip(frame, 1)\n",
    "\n",
    "            imgname = data_path+'//'+mode+'//'+label+'//'+label+('_{}.jpg'.format(str(img_count)))\n",
    "            '''\n",
    "            imgname_gray = data_path+'//'+mode+'//'+label+'//'+label+('_{}.jpg'.format(str(img_count)))\n",
    "            imgname_thresh = data_path+'//'+mode+'//'+label+'//'+label+('_{}.jpg'.format(str(img_count)))\n",
    "            imgname_morph = data_path+'//'+mode+'//'+label+'//'+label+('_{}.jpg'.format(str(img_count)))\n",
    "            '''\n",
    "\n",
    "            x1 = int(0.5* (frame.shape[1]))\n",
    "            y1 = 10\n",
    "            x2 = frame.shape[1]-10\n",
    "            y2 = int(0.5*frame.shape[1])\n",
    "\n",
    "            cv2.rectangle(frame, (x1-1, y1-1), (x2+1, y2+1), (0,0,0), 3)\n",
    "            cv2.imshow(\"Collecting Data\", frame)\n",
    "\n",
    "            # frame extraction\n",
    "            roi = frame[y1:y2, x1:x2]\n",
    "            roi = cv2.resize(roi, (128, 128))\n",
    "\n",
    "            gray = cv2.cvtColor(roi, cv2.COLOR_BGR2GRAY)\n",
    "            thresh = cv2.threshold(gray, 135, 255, cv2.THRESH_BINARY)[1]\n",
    "            \n",
    "            \n",
    "            cv2.imwrite(imgname, thresh)\n",
    "            cv2.imshow('ROI', thresh)\n",
    "            \n",
    "            '''\n",
    "            kernel = cv2.getStructuringElement(cv2.MORPH_RECT, (3,3))\n",
    "            morph = cv2.morphologyEx(thresh, cv2.MORPH_CLOSE, kernel)\n",
    "            '''\n",
    "\n",
    "            '''\n",
    "            cv2.imwrite(imgname, roi)\n",
    "            cv2.imshow('ROI', roi)\n",
    "            cv2.imwrite(imgname_gray, gray)\n",
    "            cv2.imshow('ROI_gray', gray)\n",
    "            cv2.imwrite(imgname_thresh, thresh)\n",
    "            cv2.imshow('ROI_thresh', thresh)\n",
    "            cv2.imwrite(imgname_morph, morph)\n",
    "            cv2.imshow('ROI_morph', morph)\n",
    "            '''\n",
    "\n",
    "            print('Collecting image {} {}'.format(label, img_count))\n",
    "            time.sleep(0.3)\n",
    "        print(\"click\")\n",
    "\n",
    "        if cv2.waitKey(1) == ord('q'):\n",
    "            break\n",
    "            \n",
    "    cap.release()\n",
    "    cv2.destroyAllWindows()"
   ]
  },
  {
   "cell_type": "code",
   "execution_count": 13,
   "metadata": {
    "scrolled": true
   },
   "outputs": [
    {
     "name": "stdout",
     "output_type": "stream",
     "text": [
      "Images for no-gesture :\n",
      "Collecting image no-gesture 0\n",
      "Collecting image no-gesture 1\n",
      "Collecting image no-gesture 2\n",
      "Collecting image no-gesture 3\n",
      "Collecting image no-gesture 4\n",
      "Collecting image no-gesture 5\n",
      "Collecting image no-gesture 6\n",
      "Collecting image no-gesture 7\n",
      "Collecting image no-gesture 8\n",
      "Collecting image no-gesture 9\n",
      "Collecting image no-gesture 10\n",
      "Collecting image no-gesture 11\n",
      "Collecting image no-gesture 12\n",
      "Collecting image no-gesture 13\n",
      "Collecting image no-gesture 14\n",
      "Collecting image no-gesture 15\n",
      "Collecting image no-gesture 16\n",
      "Collecting image no-gesture 17\n",
      "Collecting image no-gesture 18\n",
      "Collecting image no-gesture 19\n",
      "Collecting image no-gesture 20\n",
      "Collecting image no-gesture 21\n",
      "Collecting image no-gesture 22\n",
      "Collecting image no-gesture 23\n",
      "Collecting image no-gesture 24\n",
      "Collecting image no-gesture 25\n",
      "Collecting image no-gesture 26\n",
      "Collecting image no-gesture 27\n",
      "Collecting image no-gesture 28\n",
      "Collecting image no-gesture 29\n",
      "click\n",
      "Images for play-n-Stop :\n",
      "Collecting image play-n-Stop 0\n",
      "Collecting image play-n-Stop 1\n",
      "Collecting image play-n-Stop 2\n",
      "Collecting image play-n-Stop 3\n",
      "Collecting image play-n-Stop 4\n",
      "Collecting image play-n-Stop 5\n",
      "Collecting image play-n-Stop 6\n",
      "Collecting image play-n-Stop 7\n",
      "Collecting image play-n-Stop 8\n",
      "Collecting image play-n-Stop 9\n",
      "Collecting image play-n-Stop 10\n",
      "Collecting image play-n-Stop 11\n",
      "Collecting image play-n-Stop 12\n",
      "Collecting image play-n-Stop 13\n",
      "Collecting image play-n-Stop 14\n",
      "Collecting image play-n-Stop 15\n",
      "Collecting image play-n-Stop 16\n",
      "Collecting image play-n-Stop 17\n",
      "Collecting image play-n-Stop 18\n",
      "Collecting image play-n-Stop 19\n",
      "Collecting image play-n-Stop 20\n",
      "Collecting image play-n-Stop 21\n",
      "Collecting image play-n-Stop 22\n",
      "Collecting image play-n-Stop 23\n",
      "Collecting image play-n-Stop 24\n",
      "Collecting image play-n-Stop 25\n",
      "Collecting image play-n-Stop 26\n",
      "Collecting image play-n-Stop 27\n",
      "Collecting image play-n-Stop 28\n",
      "Collecting image play-n-Stop 29\n",
      "click\n",
      "Images for mute :\n",
      "Collecting image mute 0\n",
      "Collecting image mute 1\n",
      "Collecting image mute 2\n",
      "Collecting image mute 3\n",
      "Collecting image mute 4\n",
      "Collecting image mute 5\n",
      "Collecting image mute 6\n",
      "Collecting image mute 7\n",
      "Collecting image mute 8\n",
      "Collecting image mute 9\n",
      "Collecting image mute 10\n",
      "Collecting image mute 11\n",
      "Collecting image mute 12\n",
      "Collecting image mute 13\n",
      "Collecting image mute 14\n",
      "Collecting image mute 15\n",
      "Collecting image mute 16\n",
      "Collecting image mute 17\n",
      "Collecting image mute 18\n",
      "Collecting image mute 19\n",
      "Collecting image mute 20\n",
      "Collecting image mute 21\n",
      "Collecting image mute 22\n",
      "Collecting image mute 23\n",
      "Collecting image mute 24\n",
      "Collecting image mute 25\n",
      "Collecting image mute 26\n",
      "Collecting image mute 27\n",
      "Collecting image mute 28\n",
      "Collecting image mute 29\n",
      "click\n",
      "Images for loop :\n",
      "Collecting image loop 0\n",
      "Collecting image loop 1\n",
      "Collecting image loop 2\n",
      "Collecting image loop 3\n",
      "Collecting image loop 4\n",
      "Collecting image loop 5\n",
      "Collecting image loop 6\n",
      "Collecting image loop 7\n",
      "Collecting image loop 8\n",
      "Collecting image loop 9\n",
      "Collecting image loop 10\n",
      "Collecting image loop 11\n",
      "Collecting image loop 12\n",
      "Collecting image loop 13\n",
      "Collecting image loop 14\n",
      "Collecting image loop 15\n",
      "Collecting image loop 16\n",
      "Collecting image loop 17\n",
      "Collecting image loop 18\n",
      "Collecting image loop 19\n",
      "Collecting image loop 20\n",
      "Collecting image loop 21\n",
      "Collecting image loop 22\n",
      "Collecting image loop 23\n",
      "Collecting image loop 24\n",
      "Collecting image loop 25\n",
      "Collecting image loop 26\n",
      "Collecting image loop 27\n",
      "Collecting image loop 28\n",
      "Collecting image loop 29\n",
      "click\n",
      "Images for shortcuts :\n",
      "Collecting image shortcuts 0\n",
      "Collecting image shortcuts 1\n",
      "Collecting image shortcuts 2\n",
      "Collecting image shortcuts 3\n",
      "Collecting image shortcuts 4\n",
      "Collecting image shortcuts 5\n",
      "Collecting image shortcuts 6\n",
      "Collecting image shortcuts 7\n",
      "Collecting image shortcuts 8\n",
      "Collecting image shortcuts 9\n",
      "Collecting image shortcuts 10\n",
      "Collecting image shortcuts 11\n",
      "Collecting image shortcuts 12\n",
      "Collecting image shortcuts 13\n",
      "Collecting image shortcuts 14\n",
      "Collecting image shortcuts 15\n",
      "Collecting image shortcuts 16\n",
      "Collecting image shortcuts 17\n",
      "Collecting image shortcuts 18\n",
      "Collecting image shortcuts 19\n",
      "Collecting image shortcuts 20\n",
      "Collecting image shortcuts 21\n",
      "Collecting image shortcuts 22\n",
      "Collecting image shortcuts 23\n",
      "Collecting image shortcuts 24\n",
      "Collecting image shortcuts 25\n",
      "Collecting image shortcuts 26\n",
      "Collecting image shortcuts 27\n",
      "Collecting image shortcuts 28\n",
      "Collecting image shortcuts 29\n",
      "click\n",
      "Images for screenSize :\n",
      "Collecting image screenSize 0\n",
      "Collecting image screenSize 1\n",
      "Collecting image screenSize 2\n",
      "Collecting image screenSize 3\n",
      "Collecting image screenSize 4\n",
      "Collecting image screenSize 5\n",
      "Collecting image screenSize 6\n",
      "Collecting image screenSize 7\n",
      "Collecting image screenSize 8\n",
      "Collecting image screenSize 9\n",
      "Collecting image screenSize 10\n",
      "Collecting image screenSize 11\n",
      "Collecting image screenSize 12\n",
      "Collecting image screenSize 13\n",
      "Collecting image screenSize 14\n",
      "Collecting image screenSize 15\n",
      "Collecting image screenSize 16\n",
      "Collecting image screenSize 17\n",
      "Collecting image screenSize 18\n",
      "Collecting image screenSize 19\n",
      "Collecting image screenSize 20\n",
      "Collecting image screenSize 21\n",
      "Collecting image screenSize 22\n",
      "Collecting image screenSize 23\n",
      "Collecting image screenSize 24\n",
      "Collecting image screenSize 25\n",
      "Collecting image screenSize 26\n",
      "Collecting image screenSize 27\n",
      "Collecting image screenSize 28\n",
      "Collecting image screenSize 29\n",
      "click\n",
      "Images for subtitles :\n",
      "Collecting image subtitles 0\n",
      "Collecting image subtitles 1\n",
      "Collecting image subtitles 2\n",
      "Collecting image subtitles 3\n",
      "Collecting image subtitles 4\n",
      "Collecting image subtitles 5\n",
      "Collecting image subtitles 6\n",
      "Collecting image subtitles 7\n",
      "Collecting image subtitles 8\n",
      "Collecting image subtitles 9\n",
      "Collecting image subtitles 10\n",
      "Collecting image subtitles 11\n",
      "Collecting image subtitles 12\n",
      "Collecting image subtitles 13\n",
      "Collecting image subtitles 14\n",
      "Collecting image subtitles 15\n",
      "Collecting image subtitles 16\n",
      "Collecting image subtitles 17\n",
      "Collecting image subtitles 18\n",
      "Collecting image subtitles 19\n",
      "Collecting image subtitles 20\n",
      "Collecting image subtitles 21\n",
      "Collecting image subtitles 22\n",
      "Collecting image subtitles 23\n",
      "Collecting image subtitles 24\n",
      "Collecting image subtitles 25\n",
      "Collecting image subtitles 26\n",
      "Collecting image subtitles 27\n",
      "Collecting image subtitles 28\n",
      "Collecting image subtitles 29\n",
      "click\n",
      "Images for next :\n",
      "Collecting image next 0\n",
      "Collecting image next 1\n",
      "Collecting image next 2\n",
      "Collecting image next 3\n",
      "Collecting image next 4\n",
      "Collecting image next 5\n",
      "Collecting image next 6\n",
      "Collecting image next 7\n",
      "Collecting image next 8\n",
      "Collecting image next 9\n",
      "Collecting image next 10\n",
      "Collecting image next 11\n",
      "Collecting image next 12\n",
      "Collecting image next 13\n",
      "Collecting image next 14\n",
      "Collecting image next 15\n",
      "Collecting image next 16\n",
      "Collecting image next 17\n",
      "Collecting image next 18\n",
      "Collecting image next 19\n",
      "Collecting image next 20\n",
      "Collecting image next 21\n",
      "Collecting image next 22\n",
      "Collecting image next 23\n",
      "Collecting image next 24\n",
      "Collecting image next 25\n",
      "Collecting image next 26\n",
      "Collecting image next 27\n",
      "Collecting image next 28\n",
      "Collecting image next 29\n",
      "click\n",
      "Images for previous :\n",
      "Collecting image previous 0\n",
      "Collecting image previous 1\n",
      "Collecting image previous 2\n",
      "Collecting image previous 3\n",
      "Collecting image previous 4\n",
      "Collecting image previous 5\n",
      "Collecting image previous 6\n",
      "Collecting image previous 7\n",
      "Collecting image previous 8\n",
      "Collecting image previous 9\n",
      "Collecting image previous 10\n",
      "Collecting image previous 11\n",
      "Collecting image previous 12\n",
      "Collecting image previous 13\n",
      "Collecting image previous 14\n",
      "Collecting image previous 15\n",
      "Collecting image previous 16\n",
      "Collecting image previous 17\n",
      "Collecting image previous 18\n",
      "Collecting image previous 19\n",
      "Collecting image previous 20\n",
      "Collecting image previous 21\n",
      "Collecting image previous 22\n",
      "Collecting image previous 23\n",
      "Collecting image previous 24\n",
      "Collecting image previous 25\n",
      "Collecting image previous 26\n",
      "Collecting image previous 27\n",
      "Collecting image previous 28\n",
      "Collecting image previous 29\n",
      "click\n",
      "Images for forward :\n",
      "Collecting image forward 0\n",
      "Collecting image forward 1\n",
      "Collecting image forward 2\n",
      "Collecting image forward 3\n",
      "Collecting image forward 4\n",
      "Collecting image forward 5\n",
      "Collecting image forward 6\n",
      "Collecting image forward 7\n",
      "Collecting image forward 8\n",
      "Collecting image forward 9\n",
      "Collecting image forward 10\n"
     ]
    },
    {
     "name": "stdout",
     "output_type": "stream",
     "text": [
      "Collecting image forward 11\n",
      "Collecting image forward 12\n",
      "Collecting image forward 13\n",
      "Collecting image forward 14\n",
      "Collecting image forward 15\n",
      "Collecting image forward 16\n",
      "Collecting image forward 17\n",
      "Collecting image forward 18\n",
      "Collecting image forward 19\n",
      "Collecting image forward 20\n",
      "Collecting image forward 21\n",
      "Collecting image forward 22\n",
      "Collecting image forward 23\n",
      "Collecting image forward 24\n",
      "Collecting image forward 25\n",
      "Collecting image forward 26\n",
      "Collecting image forward 27\n",
      "Collecting image forward 28\n",
      "Collecting image forward 29\n",
      "click\n",
      "Images for backward :\n",
      "Collecting image backward 0\n",
      "Collecting image backward 1\n",
      "Collecting image backward 2\n",
      "Collecting image backward 3\n",
      "Collecting image backward 4\n",
      "Collecting image backward 5\n",
      "Collecting image backward 6\n",
      "Collecting image backward 7\n",
      "Collecting image backward 8\n",
      "Collecting image backward 9\n",
      "Collecting image backward 10\n",
      "Collecting image backward 11\n",
      "Collecting image backward 12\n",
      "Collecting image backward 13\n",
      "Collecting image backward 14\n",
      "Collecting image backward 15\n",
      "Collecting image backward 16\n",
      "Collecting image backward 17\n",
      "Collecting image backward 18\n",
      "Collecting image backward 19\n",
      "Collecting image backward 20\n",
      "Collecting image backward 21\n",
      "Collecting image backward 22\n",
      "Collecting image backward 23\n",
      "Collecting image backward 24\n",
      "Collecting image backward 25\n",
      "Collecting image backward 26\n",
      "Collecting image backward 27\n",
      "Collecting image backward 28\n",
      "Collecting image backward 29\n",
      "click\n",
      "Images for faster :\n",
      "Collecting image faster 0\n",
      "Collecting image faster 1\n",
      "Collecting image faster 2\n",
      "Collecting image faster 3\n",
      "Collecting image faster 4\n",
      "Collecting image faster 5\n",
      "Collecting image faster 6\n",
      "Collecting image faster 7\n",
      "Collecting image faster 8\n",
      "Collecting image faster 9\n",
      "Collecting image faster 10\n",
      "Collecting image faster 11\n",
      "Collecting image faster 12\n",
      "Collecting image faster 13\n",
      "Collecting image faster 14\n",
      "Collecting image faster 15\n",
      "Collecting image faster 16\n",
      "Collecting image faster 17\n",
      "Collecting image faster 18\n",
      "Collecting image faster 19\n",
      "Collecting image faster 20\n",
      "Collecting image faster 21\n",
      "Collecting image faster 22\n",
      "Collecting image faster 23\n",
      "Collecting image faster 24\n",
      "Collecting image faster 25\n",
      "Collecting image faster 26\n",
      "Collecting image faster 27\n",
      "Collecting image faster 28\n",
      "Collecting image faster 29\n",
      "click\n",
      "Images for slower :\n",
      "Collecting image slower 0\n",
      "Collecting image slower 1\n",
      "Collecting image slower 2\n",
      "Collecting image slower 3\n",
      "Collecting image slower 4\n",
      "Collecting image slower 5\n",
      "Collecting image slower 6\n",
      "Collecting image slower 7\n",
      "Collecting image slower 8\n",
      "Collecting image slower 9\n",
      "Collecting image slower 10\n",
      "Collecting image slower 11\n",
      "Collecting image slower 12\n",
      "Collecting image slower 13\n",
      "Collecting image slower 14\n",
      "Collecting image slower 15\n",
      "Collecting image slower 16\n",
      "Collecting image slower 17\n",
      "Collecting image slower 18\n",
      "Collecting image slower 19\n",
      "Collecting image slower 20\n",
      "Collecting image slower 21\n",
      "Collecting image slower 22\n",
      "Collecting image slower 23\n",
      "Collecting image slower 24\n",
      "Collecting image slower 25\n",
      "Collecting image slower 26\n",
      "Collecting image slower 27\n",
      "Collecting image slower 28\n",
      "Collecting image slower 29\n",
      "click\n",
      "Images for volume-up :\n",
      "Collecting image volume-up 0\n",
      "Collecting image volume-up 1\n",
      "Collecting image volume-up 2\n",
      "Collecting image volume-up 3\n",
      "Collecting image volume-up 4\n",
      "Collecting image volume-up 5\n",
      "Collecting image volume-up 6\n",
      "Collecting image volume-up 7\n",
      "Collecting image volume-up 8\n",
      "Collecting image volume-up 9\n",
      "Collecting image volume-up 10\n",
      "Collecting image volume-up 11\n",
      "Collecting image volume-up 12\n",
      "Collecting image volume-up 13\n",
      "Collecting image volume-up 14\n",
      "Collecting image volume-up 15\n",
      "Collecting image volume-up 16\n",
      "Collecting image volume-up 17\n",
      "Collecting image volume-up 18\n",
      "Collecting image volume-up 19\n",
      "Collecting image volume-up 20\n",
      "Collecting image volume-up 21\n",
      "Collecting image volume-up 22\n",
      "Collecting image volume-up 23\n",
      "Collecting image volume-up 24\n",
      "Collecting image volume-up 25\n",
      "Collecting image volume-up 26\n",
      "Collecting image volume-up 27\n",
      "Collecting image volume-up 28\n",
      "Collecting image volume-up 29\n",
      "click\n",
      "Images for volume-down :\n",
      "Collecting image volume-down 0\n",
      "Collecting image volume-down 1\n",
      "Collecting image volume-down 2\n",
      "Collecting image volume-down 3\n",
      "Collecting image volume-down 4\n",
      "Collecting image volume-down 5\n",
      "Collecting image volume-down 6\n",
      "Collecting image volume-down 7\n",
      "Collecting image volume-down 8\n",
      "Collecting image volume-down 9\n",
      "Collecting image volume-down 10\n",
      "Collecting image volume-down 11\n",
      "Collecting image volume-down 12\n",
      "Collecting image volume-down 13\n",
      "Collecting image volume-down 14\n",
      "Collecting image volume-down 15\n",
      "Collecting image volume-down 16\n",
      "Collecting image volume-down 17\n",
      "Collecting image volume-down 18\n",
      "Collecting image volume-down 19\n",
      "Collecting image volume-down 20\n",
      "Collecting image volume-down 21\n",
      "Collecting image volume-down 22\n",
      "Collecting image volume-down 23\n",
      "Collecting image volume-down 24\n",
      "Collecting image volume-down 25\n",
      "Collecting image volume-down 26\n",
      "Collecting image volume-down 27\n",
      "Collecting image volume-down 28\n",
      "Collecting image volume-down 29\n",
      "click\n"
     ]
    }
   ],
   "source": [
    "captureData(DATASET_PATH, mode, 30)"
   ]
  },
  {
   "cell_type": "code",
   "execution_count": null,
   "metadata": {
    "scrolled": true
   },
   "outputs": [],
   "source": []
  },
  {
   "cell_type": "code",
   "execution_count": null,
   "metadata": {
    "colab": {
     "base_uri": "https://localhost:8080/",
     "height": 235
    },
    "id": "Vfsnmvw7DRvx",
    "outputId": "c4d44482-2e64-4f9d-c3e9-591d8efa4140",
    "scrolled": true
   },
   "outputs": [],
   "source": []
  },
  {
   "cell_type": "code",
   "execution_count": 13,
   "metadata": {
    "scrolled": false
   },
   "outputs": [],
   "source": [
    "def dataCount(mode):\n",
    "    count = dict()\n",
    "    for lbl in labels:\n",
    "        count[lbl] = len(os.listdir('.//data//'+mode+'//'+lbl))\n",
    "        print(('.//data//'+mode+'//'+lbl), \" \", count[lbl])"
   ]
  },
  {
   "cell_type": "code",
   "execution_count": 14,
   "metadata": {
    "scrolled": false
   },
   "outputs": [
    {
     "name": "stdout",
     "output_type": "stream",
     "text": [
      ".//data//train//no-gesture   90\n",
      ".//data//train//play-n-Stop   89\n",
      ".//data//train//mute   89\n",
      ".//data//train//loop   88\n",
      ".//data//train//shortcuts   89\n",
      ".//data//train//screenSize   87\n",
      ".//data//train//subtitles   85\n",
      ".//data//train//next   99\n",
      ".//data//train//previous   88\n",
      ".//data//train//forward   87\n",
      ".//data//train//backward   97\n",
      ".//data//train//faster   84\n",
      ".//data//train//slower   85\n",
      ".//data//train//volume-up   88\n",
      ".//data//train//volume-down   85\n"
     ]
    }
   ],
   "source": [
    "dataCount('train')"
   ]
  },
  {
   "cell_type": "code",
   "execution_count": 15,
   "metadata": {
    "scrolled": false
   },
   "outputs": [
    {
     "name": "stdout",
     "output_type": "stream",
     "text": [
      ".//data//test//no-gesture   49\n",
      ".//data//test//play-n-Stop   49\n",
      ".//data//test//mute   42\n",
      ".//data//test//loop   35\n",
      ".//data//test//shortcuts   45\n",
      ".//data//test//screenSize   45\n",
      ".//data//test//subtitles   45\n",
      ".//data//test//next   42\n",
      ".//data//test//previous   45\n",
      ".//data//test//forward   42\n",
      ".//data//test//backward   36\n",
      ".//data//test//faster   38\n",
      ".//data//test//slower   54\n",
      ".//data//test//volume-up   54\n",
      ".//data//test//volume-down   54\n"
     ]
    }
   ],
   "source": [
    "dataCount('test')"
   ]
  },
  {
   "cell_type": "markdown",
   "metadata": {
    "id": "1dZYIif3DRv1"
   },
   "source": [
    "### Gestures in Dataset"
   ]
  },
  {
   "cell_type": "code",
   "execution_count": 16,
   "metadata": {
    "scrolled": true
   },
   "outputs": [
    {
     "data": {
      "text/plain": [
       "\"DATASET_PATH = './/data_thresh//'\\ndirectory = './/data_thresh//'+mode\\nprint(directory)\""
      ]
     },
     "execution_count": 16,
     "metadata": {},
     "output_type": "execute_result"
    }
   ],
   "source": [
    "'''DATASET_PATH = './/data_thresh//'\n",
    "directory = './/data_thresh//'+mode\n",
    "print(directory)'''"
   ]
  },
  {
   "cell_type": "code",
   "execution_count": 17,
   "metadata": {
    "id": "c_o2V6m5DRv2",
    "scrolled": true
   },
   "outputs": [
    {
     "data": {
      "text/plain": [
       "<matplotlib.image.AxesImage at 0x277eb3d8e50>"
      ]
     },
     "execution_count": 17,
     "metadata": {},
     "output_type": "execute_result"
    },
    {
     "data": {
      "image/png": "[encoded data removed]",
      "text/plain": [
       "<Figure size 640x480 with 1 Axes>"
      ]
     },
     "metadata": {},
     "output_type": "display_data"
    }
   ],
   "source": [
    "img = Image.open(directory+'//no-gesture//no-gesture_0.jpg')\n",
    "plt.imshow(img, cmap='gray')"
   ]
  },
  {
   "cell_type": "code",
   "execution_count": 18,
   "metadata": {
    "id": "xafg-IixDRv3",
    "scrolled": true
   },
   "outputs": [
    {
     "data": {
      "text/plain": [
       "<matplotlib.image.AxesImage at 0x277eb4d81c0>"
      ]
     },
     "execution_count": 18,
     "metadata": {},
     "output_type": "execute_result"
    },
    {
     "data": {
      "image/png": "[encoded data removed]",
      "text/plain": [
       "<Figure size 640x480 with 1 Axes>"
      ]
     },
     "metadata": {},
     "output_type": "display_data"
    }
   ],
   "source": [
    "img = Image.open(directory+'//play-n-Stop//play-n-Stop_0.jpg')\n",
    "plt.imshow(img, cmap='gray')"
   ]
  },
  {
   "cell_type": "code",
   "execution_count": 19,
   "metadata": {
    "id": "J5jaEV-vDRv4",
    "scrolled": true
   },
   "outputs": [
    {
     "data": {
      "text/plain": [
       "<matplotlib.image.AxesImage at 0x277ebcc09a0>"
      ]
     },
     "execution_count": 19,
     "metadata": {},
     "output_type": "execute_result"
    },
    {
     "data": {
      "image/png": "[encoded data removed]",
      "text/plain": [
       "<Figure size 640x480 with 1 Axes>"
      ]
     },
     "metadata": {},
     "output_type": "display_data"
    }
   ],
   "source": [
    "img = Image.open(directory+'//mute//mute_0.jpg')\n",
    "plt.imshow(img, cmap='gray')"
   ]
  },
  {
   "cell_type": "code",
   "execution_count": 20,
   "metadata": {
    "id": "CvCrJz-YDRv5",
    "scrolled": true
   },
   "outputs": [
    {
     "data": {
      "text/plain": [
       "<matplotlib.image.AxesImage at 0x277ebd37d60>"
      ]
     },
     "execution_count": 20,
     "metadata": {},
     "output_type": "execute_result"
    },
    {
     "data": {
      "image/png": "[encoded data removed]",
      "text/plain": [
       "<Figure size 640x480 with 1 Axes>"
      ]
     },
     "metadata": {},
     "output_type": "display_data"
    }
   ],
   "source": [
    "img = Image.open(directory+'//loop//loop_0.jpg')\n",
    "plt.imshow(img, cmap='gray')"
   ]
  },
  {
   "cell_type": "markdown",
   "metadata": {
    "id": "_phepGMYDRv9"
   },
   "source": [
    "## 2.Training CNN model"
   ]
  },
  {
   "cell_type": "markdown",
   "metadata": {
    "id": "X8RtmyylDRv-"
   },
   "source": [
    "### Import of keras model and hidden layers for our convolutional network"
   ]
  },
  {
   "cell_type": "code",
   "execution_count": 21,
   "metadata": {
    "id": "ch4nqcoIDRv_",
    "scrolled": true
   },
   "outputs": [],
   "source": [
    "from keras.models import Sequential\n",
    "from keras.layers.convolutional import Conv2D, MaxPooling2D\n",
    "from keras.layers import Dense, Flatten, Dropout"
   ]
  },
  {
   "cell_type": "markdown",
   "metadata": {
    "id": "cGVzn6aaDRwA"
   },
   "source": [
    "### Building the CNN"
   ]
  },
  {
   "cell_type": "code",
   "execution_count": 33,
   "metadata": {},
   "outputs": [],
   "source": [
    "def buildModel():\n",
    "\n",
    "    model = Sequential()\n",
    "\n",
    "    model.add(Conv2D(32, (3, 3), activation='relu', input_shape=(128, 128, 1)))\n",
    "    model.add(MaxPooling2D((2, 2)))\n",
    "\n",
    "    model.add(Conv2D(64, (3, 3), activation='relu'))\n",
    "    model.add(MaxPooling2D((2, 2)))\n",
    "\n",
    "    model.add(Conv2D(128, (3, 3), activation='relu'))\n",
    "    model.add(MaxPooling2D((2, 2)))\n",
    "    model.add(Dropout(0.2))\n",
    "\n",
    "    model.add(Flatten())\n",
    "\n",
    "    model.add(Dense(256, activation='relu'))\n",
    "    model.add(Dense(15, activation='softmax'))\n",
    "\n",
    "    return model"
   ]
  },
  {
   "cell_type": "code",
   "execution_count": 34,
   "metadata": {},
   "outputs": [],
   "source": [
    "model = buildModel()"
   ]
  },
  {
   "cell_type": "code",
   "execution_count": null,
   "metadata": {
    "id": "C5NzObXKDRwB",
    "scrolled": true
   },
   "outputs": [],
   "source": []
  },
  {
   "cell_type": "code",
   "execution_count": 35,
   "metadata": {
    "id": "YQefaMe0DRwC",
    "scrolled": true
   },
   "outputs": [],
   "source": [
    "model.compile(optimizer='adam',\n",
    "              loss='categorical_crossentropy',\n",
    "              metrics=['accuracy'])"
   ]
  },
  {
   "cell_type": "markdown",
   "metadata": {
    "id": "SP6smA4DDRwD"
   },
   "source": [
    "### Preparing the train/test data and training the model"
   ]
  },
  {
   "cell_type": "code",
   "execution_count": 36,
   "metadata": {
    "colab": {
     "base_uri": "https://localhost:8080/"
    },
    "id": "1f9g8l5ADRwD",
    "outputId": "54cbacef-be3c-40ec-bbc6-594cd0599a93",
    "scrolled": true
   },
   "outputs": [
    {
     "name": "stdout",
     "output_type": "stream",
     "text": [
      "Found 1330 images belonging to 15 classes.\n",
      "Found 675 images belonging to 15 classes.\n"
     ]
    }
   ],
   "source": [
    "from keras.preprocessing.image import ImageDataGenerator\n",
    "train_datagen = ImageDataGenerator(\n",
    "        rescale=1./255,\n",
    "        zoom_range=0.1)\n",
    "\n",
    "test_datagen = ImageDataGenerator(\n",
    "        rescale=1./255,\n",
    "        zoom_range=0.1)\n",
    "\n",
    "training_set = train_datagen.flow_from_directory(DATASET_PATH +'//train',\n",
    "                                                 target_size=(128, 128),\n",
    "                                                 batch_size=5,\n",
    "                                                 color_mode='grayscale',\n",
    "                                                 class_mode='categorical')\n",
    "\n",
    "test_set = test_datagen.flow_from_directory(DATASET_PATH +'//test',\n",
    "                                            target_size=(128, 128),\n",
    "                                            batch_size=5,\n",
    "                                            color_mode='grayscale',\n",
    "                                            class_mode='categorical')"
   ]
  },
  {
   "cell_type": "code",
   "execution_count": 37,
   "metadata": {
    "id": "wxa1LKq_DRwF",
    "scrolled": false
   },
   "outputs": [
    {
     "name": "stdout",
     "output_type": "stream",
     "text": [
      "Epoch 1/7\n",
      "90/90 [==============================] - 10s 88ms/step - loss: 2.0594 - accuracy: 0.3889 - val_loss: 1.3688 - val_accuracy: 0.6067\n",
      "Epoch 2/7\n",
      "90/90 [==============================] - 7s 73ms/step - loss: 1.0808 - accuracy: 0.6533 - val_loss: 1.0749 - val_accuracy: 0.7067\n",
      "Epoch 3/7\n",
      "90/90 [==============================] - 7s 73ms/step - loss: 0.4913 - accuracy: 0.8022 - val_loss: 0.9368 - val_accuracy: 0.7400\n",
      "Epoch 4/7\n",
      "90/90 [==============================] - 7s 73ms/step - loss: 0.4063 - accuracy: 0.8600 - val_loss: 0.6103 - val_accuracy: 0.8600\n",
      "Epoch 5/7\n",
      "90/90 [==============================] - 7s 74ms/step - loss: 0.2590 - accuracy: 0.9044 - val_loss: 0.5957 - val_accuracy: 0.8267\n",
      "Epoch 6/7\n",
      "90/90 [==============================] - 7s 74ms/step - loss: 0.1982 - accuracy: 0.9222 - val_loss: 0.3157 - val_accuracy: 0.8933\n",
      "Epoch 7/7\n",
      "90/90 [==============================] - 7s 74ms/step - loss: 0.2418 - accuracy: 0.9156 - val_loss: 0.4154 - val_accuracy: 0.8800\n"
     ]
    }
   ],
   "source": [
    "history = model.fit(\n",
    "    training_set,\n",
    "    steps_per_epoch=90,\n",
    "    epochs=7,\n",
    "    validation_data=test_set,\n",
    "    validation_steps=30)"
   ]
  },
  {
   "cell_type": "markdown",
   "metadata": {
    "id": "vmuFnpBSDRwG"
   },
   "source": [
    "### Train accuracy"
   ]
  },
  {
   "cell_type": "code",
   "execution_count": 38,
   "metadata": {
    "id": "b8MMYmnZDRwG",
    "scrolled": true
   },
   "outputs": [
    {
     "name": "stdout",
     "output_type": "stream",
     "text": [
      "266/266 [==============================] - 6s 22ms/step - loss: 0.1578 - accuracy: 0.9519\n",
      "Train accuracy: 95.19%\n"
     ]
    }
   ],
   "source": [
    "train_loss, train_acc = model.evaluate(training_set)\n",
    "\n",
    "print('Train accuracy: {:2.2f}%'.format(train_acc*100))"
   ]
  },
  {
   "cell_type": "markdown",
   "metadata": {
    "id": "uylGO6ttDRwH"
   },
   "source": [
    "### Test accuracy"
   ]
  },
  {
   "cell_type": "code",
   "execution_count": 40,
   "metadata": {
    "id": "S2eRUrtzDRwI",
    "scrolled": true
   },
   "outputs": [
    {
     "name": "stdout",
     "output_type": "stream",
     "text": [
      "135/135 [==============================] - 5s 37ms/step - loss: 0.5236 - accuracy: 0.8652\n",
      "Test accuracy: 86.52%\n"
     ]
    }
   ],
   "source": [
    "test_loss, test_acc = model.evaluate(test_set)\n",
    "\n",
    "print('Test accuracy: {:2.2f}%'.format(test_acc*100))"
   ]
  },
  {
   "cell_type": "markdown",
   "metadata": {
    "id": "UarEYy4dDRwJ"
   },
   "source": [
    "### Save entire model to a HDF5 file"
   ]
  },
  {
   "cell_type": "code",
   "execution_count": 41,
   "metadata": {
    "id": "O_2WlWj0DRwK",
    "scrolled": true
   },
   "outputs": [
    {
     "name": "stdout",
     "output_type": "stream",
     "text": [
      "Model: \"sequential_1\"\n",
      "_________________________________________________________________\n",
      " Layer (type)                Output Shape              Param #   \n",
      "=================================================================\n",
      " conv2d_3 (Conv2D)           (None, 126, 126, 32)      320       \n",
      "                                                                 \n",
      " max_pooling2d_3 (MaxPooling  (None, 63, 63, 32)       0         \n",
      " 2D)                                                             \n",
      "                                                                 \n",
      " conv2d_4 (Conv2D)           (None, 61, 61, 64)        18496     \n",
      "                                                                 \n",
      " max_pooling2d_4 (MaxPooling  (None, 30, 30, 64)       0         \n",
      " 2D)                                                             \n",
      "                                                                 \n",
      " conv2d_5 (Conv2D)           (None, 28, 28, 128)       73856     \n",
      "                                                                 \n",
      " max_pooling2d_5 (MaxPooling  (None, 14, 14, 128)      0         \n",
      " 2D)                                                             \n",
      "                                                                 \n",
      " dropout_1 (Dropout)         (None, 14, 14, 128)       0         \n",
      "                                                                 \n",
      " flatten_1 (Flatten)         (None, 25088)             0         \n",
      "                                                                 \n",
      " dense_2 (Dense)             (None, 256)               6422784   \n",
      "                                                                 \n",
      " dense_3 (Dense)             (None, 15)                3855      \n",
      "                                                                 \n",
      "=================================================================\n",
      "Total params: 6,519,311\n",
      "Trainable params: 6,519,311\n",
      "Non-trainable params: 0\n",
      "_________________________________________________________________\n"
     ]
    }
   ],
   "source": [
    "model.save('handrecognition_model.hdf5')\n",
    "model.summary()"
   ]
  },
  {
   "cell_type": "markdown",
   "metadata": {
    "id": "NuqmT5_yDRwL"
   },
   "source": [
    "### Result Analysis"
   ]
  },
  {
   "cell_type": "code",
   "execution_count": 42,
   "metadata": {
    "id": "gsjtiw5-DRwM",
    "scrolled": true
   },
   "outputs": [
    {
     "data": {
      "image/png": "[encoded data removed]",
      "text/plain": [
       "<Figure size 640x480 with 1 Axes>"
      ]
     },
     "metadata": {},
     "output_type": "display_data"
    },
    {
     "data": {
      "text/plain": [
       "<Figure size 640x480 with 0 Axes>"
      ]
     },
     "metadata": {},
     "output_type": "display_data"
    }
   ],
   "source": [
    "import matplotlib.pyplot as plt\n",
    "acc = history.history['accuracy']\n",
    "val_acc = history.history['val_accuracy']\n",
    "loss = history.history['loss']\n",
    "val_loss = history.history['val_loss']\n",
    "\n",
    "epochs = range(len(acc))\n",
    "\n",
    "plt.plot(epochs, acc, 'r', label='Training accuracy')\n",
    "plt.plot(epochs, val_acc, 'b', label='Validation accuracy')\n",
    "plt.title('Training and validation accuracy')\n",
    "plt.legend(loc=0)\n",
    "plt.figure()\n",
    "\n",
    "\n",
    "\n",
    "plt.show()"
   ]
  },
  {
   "cell_type": "code",
   "execution_count": 43,
   "metadata": {
    "id": "3ayiR6JNDRwM",
    "scrolled": true
   },
   "outputs": [
    {
     "data": {
      "text/plain": [
       "<Figure size 640x480 with 0 Axes>"
      ]
     },
     "execution_count": 43,
     "metadata": {},
     "output_type": "execute_result"
    },
    {
     "data": {
      "image/png": "[encoded data removed]",
      "text/plain": [
       "<Figure size 640x480 with 1 Axes>"
      ]
     },
     "metadata": {},
     "output_type": "display_data"
    },
    {
     "data": {
      "text/plain": [
       "<Figure size 640x480 with 0 Axes>"
      ]
     },
     "metadata": {},
     "output_type": "display_data"
    }
   ],
   "source": [
    "plt.plot(epochs, loss, 'r', label='Training loss')\n",
    "plt.plot(epochs, val_loss, 'b', label='Validationloss')\n",
    "plt.title('Training and validation loss')\n",
    "plt.legend(loc=0)\n",
    "plt.figure()"
   ]
  },
  {
   "cell_type": "markdown",
   "metadata": {
    "id": "dZZzyirrDRwN"
   },
   "source": [
    "### Saving the model weights "
   ]
  },
  {
   "cell_type": "code",
   "execution_count": 32,
   "metadata": {
    "id": "JQTlAtRXDRwO",
    "scrolled": true
   },
   "outputs": [],
   "source": [
    "model_json = model.to_json()\n",
    "with open(\"gesture-model.json\", \"w\") as json_file:\n",
    "    json_file.write(model_json)\n",
    "model.save_weights('gesture-model.h5')"
   ]
  },
  {
   "cell_type": "code",
   "execution_count": null,
   "metadata": {},
   "outputs": [],
   "source": []
  }
 ],
 "metadata": {
  "colab": {
   "provenance": []
  },
  "kernelspec": {
   "display_name": "Python 3 (ipykernel)",
   "language": "python",
   "name": "python3"
  },
  "language_info": {
   "codemirror_mode": {
    "name": "ipython",
    "version": 3
   },
   "file_extension": ".py",
   "mimetype": "text/x-python",
   "name": "python",
   "nbconvert_exporter": "python",
   "pygments_lexer": "ipython3",
   "version": "3.10.9"
  }
 },
 "nbformat": 4,
 "nbformat_minor": 1
}
