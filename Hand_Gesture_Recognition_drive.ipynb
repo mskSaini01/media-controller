{
  "cells": [
    {
      "cell_type": "markdown",
      "metadata": {
        "id": "L22Iuz5SDRvk"
      },
      "source": [
        "### Data Collection"
      ]
    },
    {
      "cell_type": "code",
      "source": [
        "from google.colab import drive\n",
        "drive.mount('/content/drive')"
      ],
      "metadata": {
        "colab": {
          "base_uri": "https://localhost:8080/"
        },
        "id": "pc9Frll60f3X",
        "outputId": "86e479b9-d012-4aec-9758-cf826e8e6a11"
      },
      "execution_count": 52,
      "outputs": [
        {
          "output_type": "stream",
          "name": "stdout",
          "text": [
            "Drive already mounted at /content/drive; to attempt to forcibly remount, call drive.mount(\"/content/drive\", force_remount=True).\n"
          ]
        }
      ]
    },
    {
      "cell_type": "code",
      "execution_count": 53,
      "metadata": {
        "id": "WqXoFfu5DRvh"
      },
      "outputs": [],
      "source": [
        "# Import Libraries\n",
        "import cv2\n",
        "import numpy as np\n",
        "import os\n",
        "import time\n",
        "from PIL import Image\n",
        "from matplotlib import pyplot as plt\n",
        "%matplotlib inline"
      ]
    },
    {
      "cell_type": "code",
      "execution_count": 54,
      "metadata": {
        "id": "1F4__2RhKcbC"
      },
      "outputs": [],
      "source": [
        "# DATASET_PATH = './/data'\n",
        "DATASET_PATH = '/content/drive/MyDrive/data'\n",
        "labels = [\"no-gesture\", \"play-n-Stop\", \"mute\", \"loop\", \"shortcuts\", \n",
        "          \"screenSize\", \"subtitles\", \"next\", \"previous\", \"forward\",\n",
        "          \"backward\", \"faster\", \"slower\", \"volume-up\", \"volume-down\"]"
      ]
    },
    {
      "cell_type": "code",
      "execution_count": 55,
      "metadata": {
        "colab": {
          "base_uri": "https://localhost:8080/"
        },
        "id": "TrasMxnizI_4",
        "outputId": "cf1ffd2b-80e4-487f-892e-f8ecb72e4e93"
      },
      "outputs": [
        {
          "output_type": "stream",
          "name": "stdout",
          "text": [
            "/content/drive/MyDrive/data\n"
          ]
        }
      ],
      "source": [
        "print(DATASET_PATH)"
      ]
    },
    {
      "cell_type": "markdown",
      "metadata": {
        "id": "O-ExcWDTzI_7"
      },
      "source": [
        "### Create the directory structure"
      ]
    },
    {
      "cell_type": "code",
      "execution_count": 56,
      "metadata": {
        "id": "aIbanarmKiQJ"
      },
      "outputs": [],
      "source": [
        "if not os.path.exists(DATASET_PATH):\n",
        "    os.makedirs(DATASET_PATH)\n",
        "\n",
        "if not os.path.exists(DATASET_PATH +'//train'):\n",
        "    os.makedirs(DATASET_PATH +'//train')\n",
        "\n",
        "if not os.path.exists(DATASET_PATH +'//test'):\n",
        "    os.makedirs(DATASET_PATH +'//test')"
      ]
    },
    {
      "cell_type": "code",
      "execution_count": 57,
      "metadata": {
        "id": "ts9hbTUnLWN_"
      },
      "outputs": [],
      "source": [
        "for label in labels:\n",
        "    if not os.path.exists(DATASET_PATH +'//train//' + label):\n",
        "        os.makedirs(DATASET_PATH +'//train//' + label)\n",
        "\n",
        "for label in labels:\n",
        "    if not os.path.exists(DATASET_PATH +'//test//' + label):\n",
        "        os.makedirs(DATASET_PATH +'//test//' + label)"
      ]
    },
    {
      "cell_type": "code",
      "execution_count": 58,
      "metadata": {
        "colab": {
          "base_uri": "https://localhost:8080/"
        },
        "id": "gwyvPdRRDRvn",
        "outputId": "8e5bd073-ca62-4c4c-ca30-24790e5cfa48"
      },
      "outputs": [
        {
          "output_type": "execute_result",
          "data": {
            "text/plain": [
              "['train', 'test']"
            ]
          },
          "metadata": {},
          "execution_count": 58
        }
      ],
      "source": [
        "os.listdir(DATASET_PATH)"
      ]
    },
    {
      "cell_type": "code",
      "execution_count": 59,
      "metadata": {
        "colab": {
          "base_uri": "https://localhost:8080/"
        },
        "id": "voftyieNDRvq",
        "outputId": "a031c704-d561-45cb-a4b1-6259df708309"
      },
      "outputs": [
        {
          "output_type": "execute_result",
          "data": {
            "text/plain": [
              "['backward',\n",
              " 'loop',\n",
              " 'faster',\n",
              " 'forward',\n",
              " 'mute',\n",
              " 'shortcuts',\n",
              " 'next',\n",
              " 'subtitles',\n",
              " 'slower',\n",
              " 'play-n-Stop',\n",
              " 'volume-down',\n",
              " 'no-gesture',\n",
              " 'volume-up',\n",
              " 'screenSize',\n",
              " 'previous']"
            ]
          },
          "metadata": {},
          "execution_count": 59
        }
      ],
      "source": [
        "os.listdir(DATASET_PATH+'//train')"
      ]
    },
    {
      "cell_type": "code",
      "execution_count": 60,
      "metadata": {
        "colab": {
          "base_uri": "https://localhost:8080/"
        },
        "id": "Uyh39ePhDRvs",
        "outputId": "2925e07c-fda7-40bf-a053-cc3434c254f1"
      },
      "outputs": [
        {
          "output_type": "execute_result",
          "data": {
            "text/plain": [
              "['loop',\n",
              " 'previous',\n",
              " 'mute',\n",
              " 'play-n-Stop',\n",
              " 'no-gesture',\n",
              " 'forward',\n",
              " 'backward',\n",
              " 'screenSize',\n",
              " 'next',\n",
              " 'faster',\n",
              " 'subtitles',\n",
              " 'shortcuts',\n",
              " 'volume-up',\n",
              " 'volume-down',\n",
              " 'slower']"
            ]
          },
          "metadata": {},
          "execution_count": 60
        }
      ],
      "source": [
        "os.listdir(DATASET_PATH+'//test')"
      ]
    },
    {
      "cell_type": "markdown",
      "metadata": {
        "id": "HWYxYNHBDRvt"
      },
      "source": [
        "### Enter Mode - Train or Test"
      ]
    },
    {
      "cell_type": "code",
      "execution_count": 61,
      "metadata": {
        "colab": {
          "base_uri": "https://localhost:8080/"
        },
        "id": "rbHlCNz_DRvu",
        "outputId": "6ea24df9-166b-4548-d7ab-6a366089599f"
      },
      "outputs": [
        {
          "name": "stdout",
          "output_type": "stream",
          "text": [
            "Enter mode: (train/test)\n",
            "train\n"
          ]
        }
      ],
      "source": [
        "print('Enter mode: (train/test)')\n",
        "mode = input()"
      ]
    },
    {
      "cell_type": "code",
      "execution_count": 62,
      "metadata": {
        "id": "e2ARa5_WDRvv"
      },
      "outputs": [],
      "source": [
        "if mode == 'train':   \n",
        "    directory = DATASET_PATH+'//'+mode\n",
        "elif mode == 'test':\n",
        "    directory = DATASET_PATH+'//'+mode\n",
        "else:\n",
        "    mode = input()"
      ]
    },
    {
      "cell_type": "markdown",
      "metadata": {
        "id": "nLDtXpKuDRvx"
      },
      "source": [
        "### Capture images for Dataset"
      ]
    },
    {
      "cell_type": "code",
      "execution_count": 63,
      "metadata": {
        "colab": {
          "base_uri": "https://localhost:8080/"
        },
        "id": "sf7GoAP4zJAH",
        "outputId": "00afeab5-7a1b-45e1-ef51-a3f3f7814f6b"
      },
      "outputs": [
        {
          "output_type": "stream",
          "name": "stdout",
          "text": [
            "/content/drive/MyDrive/data//train\n"
          ]
        }
      ],
      "source": [
        "print(directory)"
      ]
    },
    {
      "cell_type": "code",
      "execution_count": null,
      "metadata": {
        "id": "Vfsnmvw7DRvx"
      },
      "outputs": [],
      "source": [
        "cap = cv2.VideoCapture(0)\n",
        "\n",
        "for label in labels:\n",
        "    print('Images for {} :'.format(label))\n",
        "    time.sleep(5)\n",
        "    img_count = 0\n",
        "    while True:\n",
        "        _, frame = cap.read()\n",
        "        frame = cv2.flip(frame, 1)\n",
        "\n",
        "        count = dict()\n",
        "\n",
        "        for lbl in labels:\n",
        "            count[lbl] = len(os.listdir(directory+'//'+lbl))\n",
        "        \n",
        "        \n",
        "        imgname = directory+'//'+label+'//'+label+('_{}.jpg'.format(str(img_count)))\n",
        "\n",
        "        \n",
        "        x1 = int(0.5* (frame.shape[1]))\n",
        "        y1 = 10\n",
        "        x2 = frame.shape[1]-10\n",
        "        y2 = int(0.5*frame.shape[1])\n",
        "\n",
        "        cv2.rectangle(frame, (x1-1, y1-1), (x2+1, y2+1), (0,0,0), 3)\n",
        "        \n",
        "        cv2.imshow(\"Collecting Data\", frame)\n",
        "        \n",
        "        roi = frame[y1:y2, x1:x2]\n",
        "        roi = cv2.resize(roi, (128, 128))\n",
        "\n",
        "        \n",
        "        roi = cv2.cvtColor(roi, cv2.COLOR_BGR2GRAY)\n",
        "        _, roi = cv2.threshold(roi, 125, 255, cv2.THRESH_BINARY)\n",
        "        cv2.imwrite(imgname, roi)\n",
        "        cv2.imshow('ROI', roi)\n",
        "        \n",
        "        img_count += 1\n",
        "        print(imgname)\n",
        "        print('Collecting image {}'.format(img_count))\n",
        "        \n",
        "        interrupt = cv2.waitKey(2)\n",
        "        if interrupt == ord('k'):\n",
        "            break\n",
        "        elif interrupt == ord('q'):\n",
        "            exit()\n",
        "        \n",
        "        time.sleep(1)\n",
        "    print(\"click\")\n",
        "    \n",
        "    if cv2.waitKey(1) == ord('q'):\n",
        "        break\n",
        "\n",
        "\n",
        "cap.release()\n",
        "cv2.destroyAllWindows()"
      ]
    },
    {
      "cell_type": "code",
      "source": [
        "count = dict()\n",
        "for lbl in labels:\n",
        "    count[lbl] = len(os.listdir(directory+'//'+lbl))\n",
        "    print((directory+'//'+lbl), \" \", count[lbl])"
      ],
      "metadata": {
        "colab": {
          "base_uri": "https://localhost:8080/"
        },
        "id": "qKU1QcKRzfld",
        "outputId": "eabaae3b-5062-4b08-a6b7-82065330fb5b"
      },
      "execution_count": 65,
      "outputs": [
        {
          "output_type": "stream",
          "name": "stdout",
          "text": [
            "/content/drive/MyDrive/data//train//no-gesture   90\n",
            "/content/drive/MyDrive/data//train//play-n-Stop   89\n",
            "/content/drive/MyDrive/data//train//mute   89\n",
            "/content/drive/MyDrive/data//train//loop   88\n",
            "/content/drive/MyDrive/data//train//shortcuts   89\n",
            "/content/drive/MyDrive/data//train//screenSize   87\n",
            "/content/drive/MyDrive/data//train//subtitles   85\n",
            "/content/drive/MyDrive/data//train//next   99\n",
            "/content/drive/MyDrive/data//train//previous   88\n",
            "/content/drive/MyDrive/data//train//forward   87\n",
            "/content/drive/MyDrive/data//train//backward   97\n",
            "/content/drive/MyDrive/data//train//faster   84\n",
            "/content/drive/MyDrive/data//train//slower   85\n",
            "/content/drive/MyDrive/data//train//volume-up   88\n",
            "/content/drive/MyDrive/data//train//volume-down   85\n"
          ]
        }
      ]
    },
    {
      "cell_type": "markdown",
      "metadata": {
        "id": "1dZYIif3DRv1"
      },
      "source": [
        "### Gestures in Dataset"
      ]
    },
    {
      "cell_type": "code",
      "execution_count": 66,
      "metadata": {
        "id": "c_o2V6m5DRv2",
        "colab": {
          "base_uri": "https://localhost:8080/",
          "height": 285
        },
        "outputId": "5d4a2609-43ff-4070-8194-f2407aa8cf6e"
      },
      "outputs": [
        {
          "output_type": "execute_result",
          "data": {
            "text/plain": [
              "<matplotlib.image.AxesImage at 0x7f81c93c68e0>"
            ]
          },
          "metadata": {},
          "execution_count": 66
        },
        {
          "output_type": "display_data",
          "data": {
            "text/plain": [
              "<Figure size 432x288 with 1 Axes>"
            ],
            "image/png": "[encoded data removed]"
          },
          "metadata": {
            "needs_background": "light"
          }
        }
      ],
      "source": [
        "img = Image.open(directory+'//no-gesture//no-gesture_0.jpg')\n",
        "plt.imshow(img, cmap='gray')"
      ]
    },
    {
      "cell_type": "code",
      "execution_count": 67,
      "metadata": {
        "id": "xafg-IixDRv3",
        "outputId": "ee5a54c3-ee8f-4acc-fce6-d747a750ba9a",
        "colab": {
          "base_uri": "https://localhost:8080/",
          "height": 285
        }
      },
      "outputs": [
        {
          "output_type": "execute_result",
          "data": {
            "text/plain": [
              "<matplotlib.image.AxesImage at 0x7f81c931c1c0>"
            ]
          },
          "metadata": {},
          "execution_count": 67
        },
        {
          "output_type": "display_data",
          "data": {
            "text/plain": [
              "<Figure size 432x288 with 1 Axes>"
            ],
            "image/png": "[encoded data removed]"
          },
          "metadata": {
            "needs_background": "light"
          }
        }
      ],
      "source": [
        "img = Image.open(directory+'//play-n-Stop//play-n-Stop_0.jpg')\n",
        "plt.imshow(img, cmap='gray')"
      ]
    },
    {
      "cell_type": "code",
      "execution_count": 68,
      "metadata": {
        "id": "J5jaEV-vDRv4",
        "outputId": "d7d20a85-1955-4541-ab4c-876b7e10ed3e",
        "colab": {
          "base_uri": "https://localhost:8080/",
          "height": 285
        }
      },
      "outputs": [
        {
          "output_type": "execute_result",
          "data": {
            "text/plain": [
              "<matplotlib.image.AxesImage at 0x7f81c92ea880>"
            ]
          },
          "metadata": {},
          "execution_count": 68
        },
        {
          "output_type": "display_data",
          "data": {
            "text/plain": [
              "<Figure size 432x288 with 1 Axes>"
            ],
            "image/png": "[encoded data removed]"
          },
          "metadata": {
            "needs_background": "light"
          }
        }
      ],
      "source": [
        "img = Image.open(directory+'//mute//mute_0.jpg')\n",
        "plt.imshow(img, cmap='gray')"
      ]
    },
    {
      "cell_type": "code",
      "execution_count": 69,
      "metadata": {
        "id": "CvCrJz-YDRv5",
        "outputId": "602c745e-1fa2-49ed-954e-c3c6d9d3f4cb",
        "colab": {
          "base_uri": "https://localhost:8080/",
          "height": 285
        }
      },
      "outputs": [
        {
          "output_type": "execute_result",
          "data": {
            "text/plain": [
              "<matplotlib.image.AxesImage at 0x7f81c92c3070>"
            ]
          },
          "metadata": {},
          "execution_count": 69
        },
        {
          "output_type": "display_data",
          "data": {
            "text/plain": [
              "<Figure size 432x288 with 1 Axes>"
            ],
            "image/png": "[encoded data removed]"
          },
          "metadata": {
            "needs_background": "light"
          }
        }
      ],
      "source": [
        "img = Image.open(directory+'//loop//loop_0.jpg')\n",
        "plt.imshow(img, cmap='gray')"
      ]
    },
    {
      "cell_type": "markdown",
      "metadata": {
        "id": "_phepGMYDRv9"
      },
      "source": [
        "## 2.Training CNN model"
      ]
    },
    {
      "cell_type": "markdown",
      "metadata": {
        "id": "X8RtmyylDRv-"
      },
      "source": [
        "### Import of keras model and hidden layers for our convolutional network"
      ]
    },
    {
      "cell_type": "code",
      "execution_count": 70,
      "metadata": {
        "id": "ch4nqcoIDRv_"
      },
      "outputs": [],
      "source": [
        "from keras.models import Sequential\n",
        "from keras.layers.convolutional import Conv2D, MaxPooling2D\n",
        "from keras.layers import Dense, Flatten"
      ]
    },
    {
      "cell_type": "markdown",
      "metadata": {
        "id": "cGVzn6aaDRwA"
      },
      "source": [
        "### Building the CNN"
      ]
    },
    {
      "cell_type": "code",
      "execution_count": 89,
      "metadata": {
        "id": "C5NzObXKDRwB"
      },
      "outputs": [],
      "source": [
        "\n",
        "model = Sequential()\n",
        "\n",
        "model.add(Conv2D(32, (3, 3), activation='relu', input_shape=(128, 128, 1)))\n",
        "model.add(MaxPooling2D((2, 2)))\n",
        "\n",
        "model.add(Conv2D(64, (3, 3), activation='relu'))\n",
        "model.add(MaxPooling2D((2, 2)))\n",
        "\n",
        "model.add(Conv2D(128, (3, 3), activation='relu'))\n",
        "model.add(MaxPooling2D((2, 2)))\n",
        "\n",
        "model.add(Flatten())\n",
        "\n",
        "model.add(Dense(256, activation='relu'))\n",
        "model.add(Dense(15, activation='softmax'))"
      ]
    },
    {
      "cell_type": "code",
      "execution_count": 90,
      "metadata": {
        "id": "YQefaMe0DRwC"
      },
      "outputs": [],
      "source": [
        "model.compile(optimizer='adam',\n",
        "              loss='categorical_crossentropy',\n",
        "              metrics=['accuracy'])"
      ]
    },
    {
      "cell_type": "markdown",
      "metadata": {
        "id": "SP6smA4DDRwD"
      },
      "source": [
        "### Preparing the train/test data and training the model"
      ]
    },
    {
      "cell_type": "code",
      "execution_count": 91,
      "metadata": {
        "id": "1f9g8l5ADRwD",
        "colab": {
          "base_uri": "https://localhost:8080/"
        },
        "outputId": "5b6a0aa6-a3cf-4554-b4b6-aa199beee6dc"
      },
      "outputs": [
        {
          "output_type": "stream",
          "name": "stdout",
          "text": [
            "Found 1330 images belonging to 15 classes.\n",
            "Found 675 images belonging to 15 classes.\n"
          ]
        }
      ],
      "source": [
        "from keras.preprocessing.image import ImageDataGenerator\n",
        "train_datagen = ImageDataGenerator(\n",
        "        rescale=1./255,\n",
        "        shear_range=0.2,\n",
        "        zoom_range=0.2,\n",
        "        horizontal_flip=False)\n",
        "\n",
        "test_datagen = ImageDataGenerator(rescale=1./255)\n",
        "\n",
        "training_set = train_datagen.flow_from_directory(DATASET_PATH +'//train',\n",
        "                                                 target_size=(128, 128),\n",
        "                                                 batch_size=5,\n",
        "                                                 color_mode='grayscale',\n",
        "                                                 class_mode='categorical')\n",
        "\n",
        "test_set = test_datagen.flow_from_directory(DATASET_PATH +'//test',\n",
        "                                            target_size=(128, 128),\n",
        "                                            batch_size=5,\n",
        "                                            color_mode='grayscale',\n",
        "                                            class_mode='categorical')"
      ]
    },
    {
      "cell_type": "code",
      "execution_count": 92,
      "metadata": {
        "id": "wxa1LKq_DRwF",
        "colab": {
          "base_uri": "https://localhost:8080/"
        },
        "outputId": "08b3b7b8-f4f4-4a6c-e21d-e59b66c27acc"
      },
      "outputs": [
        {
          "output_type": "stream",
          "name": "stdout",
          "text": [
            "Epoch 1/5\n",
            "80/80 [==============================] - 28s 340ms/step - loss: 2.1624 - accuracy: 0.3125 - val_loss: 1.3420 - val_accuracy: 0.5200\n",
            "Epoch 2/5\n",
            "80/80 [==============================] - 28s 349ms/step - loss: 1.2767 - accuracy: 0.5950 - val_loss: 0.9479 - val_accuracy: 0.7133\n",
            "Epoch 3/5\n",
            "80/80 [==============================] - 27s 335ms/step - loss: 0.8106 - accuracy: 0.7250 - val_loss: 0.3898 - val_accuracy: 0.8667\n",
            "Epoch 4/5\n",
            "80/80 [==============================] - 28s 349ms/step - loss: 0.5030 - accuracy: 0.8200 - val_loss: 0.3696 - val_accuracy: 0.8200\n",
            "Epoch 5/5\n",
            "80/80 [==============================] - 25s 313ms/step - loss: 0.3712 - accuracy: 0.8925 - val_loss: 0.1733 - val_accuracy: 0.9400\n"
          ]
        }
      ],
      "source": [
        "history = model.fit(\n",
        "    training_set,\n",
        "    steps_per_epoch=80,\n",
        "    epochs=5,\n",
        "    validation_data=test_set,\n",
        "    validation_steps=30)"
      ]
    },
    {
      "cell_type": "markdown",
      "metadata": {
        "id": "vmuFnpBSDRwG"
      },
      "source": [
        "### Train accuracy"
      ]
    },
    {
      "cell_type": "code",
      "execution_count": 93,
      "metadata": {
        "id": "b8MMYmnZDRwG",
        "colab": {
          "base_uri": "https://localhost:8080/"
        },
        "outputId": "55c6f5bc-17cb-43af-bf2f-12260fd33f11"
      },
      "outputs": [
        {
          "output_type": "stream",
          "name": "stdout",
          "text": [
            "266/266 [==============================] - 18s 69ms/step - loss: 0.3665 - accuracy: 0.8880\n",
            "Train accuracy: 88.80%\n"
          ]
        }
      ],
      "source": [
        "train_loss, train_acc = model.evaluate(training_set)\n",
        "\n",
        "print('Train accuracy: {:2.2f}%'.format(train_acc*100))"
      ]
    },
    {
      "cell_type": "markdown",
      "metadata": {
        "id": "uylGO6ttDRwH"
      },
      "source": [
        "### Test accuracy"
      ]
    },
    {
      "cell_type": "code",
      "execution_count": 94,
      "metadata": {
        "id": "S2eRUrtzDRwI",
        "colab": {
          "base_uri": "https://localhost:8080/"
        },
        "outputId": "733eee19-36e4-409b-897c-685e90aa1999"
      },
      "outputs": [
        {
          "output_type": "stream",
          "name": "stdout",
          "text": [
            "135/135 [==============================] - 8s 57ms/step - loss: 0.1900 - accuracy: 0.9452\n",
            "Test accuracy: 94.52%\n"
          ]
        }
      ],
      "source": [
        "test_loss, test_acc = model.evaluate(test_set)\n",
        "\n",
        "print('Test accuracy: {:2.2f}%'.format(test_acc*100))"
      ]
    },
    {
      "cell_type": "code",
      "source": [],
      "metadata": {
        "id": "bCA6fpYtPaOk"
      },
      "execution_count": 94,
      "outputs": []
    },
    {
      "cell_type": "code",
      "source": [
        "import matplotlib.pyplot as plt\n",
        "\n",
        "# summarize history for accuracy\n",
        "plt.plot(history.history['accuracy'])\n",
        "plt.plot(history.history['val_accuracy'])\n",
        "plt.title('model accuracy')\n",
        "plt.ylabel('accuracy')\n",
        "plt.xlabel('epoch')\n",
        "plt.legend(['train', 'test'], loc='upper left')\n",
        "plt.show()"
      ],
      "metadata": {
        "colab": {
          "base_uri": "https://localhost:8080/",
          "height": 295
        },
        "id": "cIyn5BWHPagn",
        "outputId": "89e9882a-a620-4e1c-ce9a-e7212268a716"
      },
      "execution_count": 97,
      "outputs": [
        {
          "output_type": "display_data",
          "data": {
            "text/plain": [
              "<Figure size 432x288 with 1 Axes>"
            ],
            "image/png": "[encoded data removed]"
          },
          "metadata": {
            "needs_background": "light"
          }
        }
      ]
    },
    {
      "cell_type": "code",
      "source": [],
      "metadata": {
        "id": "QQySDXNHPask"
      },
      "execution_count": null,
      "outputs": []
    },
    {
      "cell_type": "code",
      "source": [],
      "metadata": {
        "id": "1BQ-8omaPa22"
      },
      "execution_count": null,
      "outputs": []
    },
    {
      "cell_type": "code",
      "source": [],
      "metadata": {
        "id": "f02UWDfKPbEr"
      },
      "execution_count": null,
      "outputs": []
    }
  ],
  "metadata": {
    "colab": {
      "provenance": []
    },
    "kernelspec": {
      "display_name": "Python 3 (ipykernel)",
      "language": "python",
      "name": "python3"
    },
    "language_info": {
      "codemirror_mode": {
        "name": "ipython",
        "version": 3
      },
      "file_extension": ".py",
      "mimetype": "text/x-python",
      "name": "python",
      "nbconvert_exporter": "python",
      "pygments_lexer": "ipython3",
      "version": "3.9.12"
    }
  },
  "nbformat": 4,
  "nbformat_minor": 0
}